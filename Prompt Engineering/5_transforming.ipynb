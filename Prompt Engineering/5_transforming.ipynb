{
 "cells": [
  {
   "cell_type": "markdown",
   "id": "e3993515-9710-4ac4-89e9-b35ebb81e920",
   "metadata": {
    "id": "rhqRhkElpJ0z"
   },
   "source": [
    "# Transforming\n",
    "\n",
    "In this notebook, we will explore how to use Large Language Models for text transformation tasks such as language translation, spelling and grammar checking, tone adjustment, and format conversion.\n",
    "\n",
    "## Setup"
   ]
  },
  {
   "cell_type": "code",
   "execution_count": 1,
   "id": "41df0348",
   "metadata": {
    "tags": []
   },
   "outputs": [],
   "source": [
    "import openai\n",
    "import os\n",
    "\n",
    "from dotenv import load_dotenv, find_dotenv\n",
    "_ = load_dotenv(find_dotenv())  # read local .env file\n",
    "\n",
    "openai.api_key = os.getenv('OPENAI_API_KEY')\n",
    "openai.api_type = os.environ[\"OPENAI_API_TYPE\"]\n",
    "openai.api_base = os.environ[\"OPENAI_API_BASE\"]\n",
    "openai.api_version = os.environ[\"OPENAI_API_VERSION\"]\n"
   ]
  },
  {
   "cell_type": "code",
   "execution_count": 2,
   "id": "6a85ee0f",
   "metadata": {
    "tags": []
   },
   "outputs": [],
   "source": [
    "def get_completion(prompt, model=\"gpt-3.5-turbo\", temperature=0):\n",
    "    messages = [{\"role\": \"user\", \"content\": prompt}]\n",
    "    response = openai.ChatCompletion.create(\n",
    "        model=model,\n",
    "        engine=\"gpt3\",\n",
    "        messages=messages,\n",
    "        temperature=temperature,\n",
    "    )\n",
    "    return response.choices[0].message[\"content\"]\n"
   ]
  },
  {
   "cell_type": "markdown",
   "id": "1d8f0bd8-628e-4c36-bcd0-2110162f25fc",
   "metadata": {
    "id": "zdxC4c6pwqA5"
   },
   "source": [
    "## Translation\n",
    "\n",
    "ChatGPT is trained with sources in many languages. This gives the model the ability to do translation. Here are some examples of how to use this capability."
   ]
  },
  {
   "cell_type": "code",
   "execution_count": 3,
   "id": "9c4df6ff",
   "metadata": {
    "tags": []
   },
   "outputs": [
    {
     "name": "stdout",
     "output_type": "stream",
     "text": [
      "Hola, me gustaría ordenar una licuadora.\n"
     ]
    }
   ],
   "source": [
    "prompt = f\"\"\"\n",
    "Translate the following English text to Spanish: \\ \n",
    "```Hi, I would like to order a blender```\n",
    "\"\"\"\n",
    "response = get_completion(prompt)\n",
    "print(response)\n"
   ]
  },
  {
   "cell_type": "code",
   "execution_count": 4,
   "id": "7300ed9b",
   "metadata": {
    "tags": []
   },
   "outputs": [
    {
     "name": "stdout",
     "output_type": "stream",
     "text": [
      "This language is French.\n"
     ]
    }
   ],
   "source": [
    "prompt = f\"\"\"\n",
    "Tell me which language this is: \n",
    "```Combien coûte le lampadaire?```\n",
    "\"\"\"\n",
    "response = get_completion(prompt)\n",
    "print(response)\n"
   ]
  },
  {
   "cell_type": "code",
   "execution_count": 5,
   "id": "791e789b",
   "metadata": {
    "tags": []
   },
   "outputs": [
    {
     "name": "stdout",
     "output_type": "stream",
     "text": [
      "French: ```Je veux commander un ballon de basket```\n",
      "Spanish: ```Quiero ordenar una pelota de baloncesto```\n",
      "English: ```I want to order a basketball```\n"
     ]
    }
   ],
   "source": [
    "prompt = f\"\"\"\n",
    "Translate the following  text to French and Spanish\n",
    "and English pirate: \\\n",
    "```I want to order a basketball```\n",
    "\"\"\"\n",
    "response = get_completion(prompt)\n",
    "print(response)\n"
   ]
  },
  {
   "cell_type": "code",
   "execution_count": 6,
   "id": "fcf7eb63",
   "metadata": {
    "tags": []
   },
   "outputs": [
    {
     "name": "stdout",
     "output_type": "stream",
     "text": [
      "Formal: ¿Le gustaría ordenar una almohada?\n",
      "Informal: ¿Te gustaría ordenar una almohada?\n"
     ]
    }
   ],
   "source": [
    "prompt = f\"\"\"\n",
    "Translate the following text to Spanish in both the \\\n",
    "formal and informal forms: \n",
    "'Would you like to order a pillow?'\n",
    "\"\"\"\n",
    "response = get_completion(prompt)\n",
    "print(response)\n"
   ]
  },
  {
   "cell_type": "markdown",
   "id": "8edb56d2-a32a-470f-9f40-4fc5b1ea0849",
   "metadata": {
    "id": "-hN2bczQrRC1"
   },
   "source": [
    "### Universal Translator\n",
    "Imagine you are in charge of IT at a large multinational e-commerce company. Users are messaging you with IT issues in all their native languages. Your staff is from all over the world and speaks only their native languages. You need a universal translator!"
   ]
  },
  {
   "cell_type": "code",
   "execution_count": 7,
   "id": "68a40bf0",
   "metadata": {
    "tags": []
   },
   "outputs": [],
   "source": [
    "user_messages = [\n",
    "    # System performance is slower than normal\n",
    "    \"La performance du système est plus lente que d'habitude.\",\n",
    "    # My monitor has pixels that are not lighting\n",
    "    \"Mi monitor tiene píxeles que no se iluminan.\",\n",
    "    # My mouse is not working\n",
    "    \"Il mio mouse non funziona\",\n",
    "    # My keyboard has a broken control key\n",
    "    \"Mój klawisz Ctrl jest zepsuty\",\n",
    "    \"我的屏幕在闪烁\"                                               # My screen is flashing\n",
    "]\n"
   ]
  },
  {
   "cell_type": "code",
   "execution_count": 8,
   "id": "552d0db9",
   "metadata": {
    "tags": []
   },
   "outputs": [
    {
     "name": "stdout",
     "output_type": "stream",
     "text": [
      "Original message (The language is French.): La performance du système est plus lente que d'habitude.\n",
      "The performance of the system is slower than usual.\n",
      "\n",
      "시스템의 성능이 평소보다 느립니다. \n",
      "\n",
      "Original message (The language is Spanish.): Mi monitor tiene píxeles que no se iluminan.\n",
      "English: \"My monitor has pixels that do not light up.\"\n",
      "\n",
      "Korean: \"내 모니터에는 밝아지지 않는 픽셀이 있습니다.\" (Nae moniteoeneun balkaji-ji anhneun piksel-i issseumnida.) \n",
      "\n",
      "Original message (The language is Italian.): Il mio mouse non funziona\n",
      "English: \"My mouse is not working.\"\n",
      "Korean: \"내 마우스가 작동하지 않습니다.\" \n",
      "\n",
      "Original message (The language is Polish.): Mój klawisz Ctrl jest zepsuty\n",
      "English: \"My Ctrl key is broken\"\n",
      "Korean: \"내 Ctrl 키가 고장 났어요\" \n",
      "\n",
      "Original message (The language is Chinese.): 我的屏幕在闪烁\n",
      "English: My screen is flickering.\n",
      "Korean: 내 화면이 깜박거립니다. \n",
      "\n"
     ]
    }
   ],
   "source": [
    "for issue in user_messages:\n",
    "    prompt = f\"Tell me what language this is: ```{issue}```\"\n",
    "    lang = get_completion(prompt)\n",
    "    print(f\"Original message ({lang}): {issue}\")\n",
    "\n",
    "    prompt = f\"\"\"\n",
    "    Translate the following  text to English \\\n",
    "    and Korean: ```{issue}```\n",
    "    \"\"\"\n",
    "    response = get_completion(prompt)\n",
    "    print(response, \"\\n\")\n"
   ]
  },
  {
   "cell_type": "markdown",
   "id": "18e660eb-324f-474c-acf3-7e3bf5b7c70e",
   "metadata": {},
   "source": [
    "## Try it yourself!\n",
    "Try some translations on your own!"
   ]
  },
  {
   "cell_type": "code",
   "execution_count": 9,
   "id": "fa57158f-d77d-42d1-94fe-17fa59c012f8",
   "metadata": {},
   "outputs": [
    {
     "name": "stdout",
     "output_type": "stream",
     "text": [
      "Original message (The language is Bengali.): শনির দশায় অর্থ সঙ্কটে জেরবার? রান্নাঘরের এই সামান্য জিনিসেই মিলবে মুক্তি\n",
      "In English: \"Will freedom be found in the crisis of money on Saturday? This small thing in the kitchen will bring liberation.\"\n",
      "\n",
      "In Korean: \"토요일에 돈의 위기에서 자유를 찾을 수 있을까요? 이 작은 것이 부엌에서 해방을 가져올 것입니다.\" \n",
      "\n",
      "Original message (The language is Hindi.): सस्पेंस, थ्रिलर, एक्शन से भरपूर हैं ये वेब सीरीज-फिल्में, इस वीकेंड होगा मनोरंजन का डोज दोगुना\n",
      "English translation: These web series and films are full of suspense, thriller, and action. This weekend will be double the dose of entertainment.\n",
      "\n",
      "Korean translation: 이 웹 시리즈와 영화들은 긴장감, 스릴러, 액션으로 가득 차 있습니다. 이번 주말은 엔터테인먼트의 두 배로 즐길 수 있을 것입니다. \n",
      "\n",
      "Original message (The language is Gujarati.): આજે ગ્રહોની સ્થિતિ એકદમ સંતોષજનક છે. કોઈની મદદ સાથે તમારું કોઈ અટકેલું કામ પૂરું થઈ શકે છે. \n",
      "Today, the position of the planets is very satisfying. With someone's help, any pending work can be completed.\n",
      "\n",
      "English translation: Today, the position of the planets is very satisfying. With someone's help, any pending work can be completed.\n",
      "\n",
      "Korean translation: 오늘은 행성의 위치가 매우 만족스럽습니다. 누군가의 도움으로 미처 처리하지 못한 작업을 완료할 수 있습니다. \n",
      "\n",
      "Original message (The language is Kannada.): ಬಿಜೆಪಿ- ಜೆಡಿಎಸ್ ಮೈತ್ರಿ: ಕಮಲ ಪಕ್ಷದ ಸಖ್ಯಕ್ಕೆ ದಳ ಶಾಸಕರ ಒಲವು ಹೇಗಿದೆ?\n",
      "English translation: \"BJP-JDS alliance: How is the support of MLAs to the Kamal party?\"\n",
      "\n",
      "Korean translation: \"BJP-JDS 연합: 카말당의 의원들의 지원은 어떻게 되고 있나요?\" \n",
      "\n"
     ]
    }
   ],
   "source": [
    "messages = [\n",
    "    'শনির দশায় অর্থ সঙ্কটে জেরবার? রান্নাঘরের এই সামান্য জিনিসেই মিলবে মুক্তি',\n",
    "    'सस्पेंस, थ्रिलर, एक्शन से भरपूर हैं ये वेब सीरीज-फिल्में, इस वीकेंड होगा मनोरंजन का डोज दोगुना',\n",
    "    'આજે ગ્રહોની સ્થિતિ એકદમ સંતોષજનક છે. કોઈની મદદ સાથે તમારું કોઈ અટકેલું કામ પૂરું થઈ શકે છે. ',\n",
    "    'ಬಿಜೆಪಿ- ಜೆಡಿಎಸ್ ಮೈತ್ರಿ: ಕಮಲ ಪಕ್ಷದ ಸಖ್ಯಕ್ಕೆ ದಳ ಶಾಸಕರ ಒಲವು ಹೇಗಿದೆ?'\n",
    "]\n",
    "\n",
    "for message in messages:\n",
    "    prompt = f\"Tell me what language this is: ```{message}```\"\n",
    "    lang = get_completion(prompt)\n",
    "    print(f\"Original message ({lang}): {message}\")\n",
    "\n",
    "    prompt = f\"\"\"\n",
    "    Translate the following  text to English \\\n",
    "    and Korean: ```{message}```\n",
    "    \"\"\"\n",
    "    response = get_completion(prompt)\n",
    "    print(response, \"\\n\")\n"
   ]
  },
  {
   "cell_type": "markdown",
   "id": "1d9e54ca-f93a-43c8-a295-bff7a89f77f5",
   "metadata": {
    "id": "JH3-0vdjsILh"
   },
   "source": [
    "## Tone Transformation\n",
    "Writing can vary based on the intended audience. ChatGPT can produce different tones.\n"
   ]
  },
  {
   "cell_type": "code",
   "execution_count": 10,
   "id": "2deac328",
   "metadata": {
    "tags": []
   },
   "outputs": [
    {
     "name": "stdout",
     "output_type": "stream",
     "text": [
      "Dear Sir/Madam,\n",
      "\n",
      "I hope this letter finds you well. My name is Joe, and I am writing to bring your attention to a specification document regarding a standing lamp. \n",
      "\n",
      "I kindly request that you take a moment to review the attached document, as it provides detailed information about the features and qualities of the aforementioned standing lamp. \n",
      "\n",
      "Thank you for your time and consideration. I look forward to discussing this matter further with you.\n",
      "\n",
      "Yours sincerely,\n",
      "Joe\n"
     ]
    }
   ],
   "source": [
    "prompt = f\"\"\"\n",
    "Translate the following from slang to a business letter: \n",
    "'Dude, This is Joe, check out this spec on this standing lamp.'\n",
    "\"\"\"\n",
    "response = get_completion(prompt)\n",
    "print(response)\n"
   ]
  },
  {
   "cell_type": "markdown",
   "id": "a2c7eb73-6b82-442d-b4f8-251c308e89d5",
   "metadata": {
    "id": "p3e9sZh5tWIa"
   },
   "source": [
    "## Format Conversion\n",
    "ChatGPT can translate between formats. The prompt should describe the input and output formats."
   ]
  },
  {
   "cell_type": "code",
   "execution_count": 11,
   "id": "5a37f0a0",
   "metadata": {
    "tags": []
   },
   "outputs": [
    {
     "name": "stdout",
     "output_type": "stream",
     "text": [
      "<!DOCTYPE html>\n",
      "<html>\n",
      "<head>\n",
      "<style>\n",
      "table {\n",
      "  font-family: arial, sans-serif;\n",
      "  border-collapse: collapse;\n",
      "  width: 100%;\n",
      "}\n",
      "\n",
      "td, th {\n",
      "  border: 1px solid #dddddd;\n",
      "  text-align: left;\n",
      "  padding: 8px;\n",
      "}\n",
      "\n",
      "tr:nth-child(even) {\n",
      "  background-color: #dddddd;\n",
      "}\n",
      "</style>\n",
      "</head>\n",
      "<body>\n",
      "\n",
      "<h2>Restaurant Employees</h2>\n",
      "\n",
      "<table>\n",
      "  <tr>\n",
      "    <th>Name</th>\n",
      "    <th>Email</th>\n",
      "  </tr>\n",
      "  <tr>\n",
      "    <td>Shyam</td>\n",
      "    <td>shyamjaiswal@gmail.com</td>\n",
      "  </tr>\n",
      "  <tr>\n",
      "    <td>Bob</td>\n",
      "    <td>bob32@gmail.com</td>\n",
      "  </tr>\n",
      "  <tr>\n",
      "    <td>Jai</td>\n",
      "    <td>jai87@gmail.com</td>\n",
      "  </tr>\n",
      "</table>\n",
      "\n",
      "</body>\n",
      "</html>\n"
     ]
    }
   ],
   "source": [
    "data_json = {\"resturant employees\": [\n",
    "    {\"name\": \"Shyam\", \"email\": \"shyamjaiswal@gmail.com\"},\n",
    "    {\"name\": \"Bob\", \"email\": \"bob32@gmail.com\"},\n",
    "    {\"name\": \"Jai\", \"email\": \"jai87@gmail.com\"}\n",
    "]}\n",
    "\n",
    "prompt = f\"\"\"\n",
    "Translate the following python dictionary from JSON to an HTML \\\n",
    "table with column headers and title: {data_json}\n",
    "\"\"\"\n",
    "response = get_completion(prompt)\n",
    "print(response)\n"
   ]
  },
  {
   "cell_type": "code",
   "execution_count": 12,
   "id": "481a46b7",
   "metadata": {
    "tags": []
   },
   "outputs": [
    {
     "data": {
      "text/html": [
       "<!DOCTYPE html>\n",
       "<html>\n",
       "<head>\n",
       "<style>\n",
       "table {\n",
       "  font-family: arial, sans-serif;\n",
       "  border-collapse: collapse;\n",
       "  width: 100%;\n",
       "}\n",
       "\n",
       "td, th {\n",
       "  border: 1px solid #dddddd;\n",
       "  text-align: left;\n",
       "  padding: 8px;\n",
       "}\n",
       "\n",
       "tr:nth-child(even) {\n",
       "  background-color: #dddddd;\n",
       "}\n",
       "</style>\n",
       "</head>\n",
       "<body>\n",
       "\n",
       "<h2>Restaurant Employees</h2>\n",
       "\n",
       "<table>\n",
       "  <tr>\n",
       "    <th>Name</th>\n",
       "    <th>Email</th>\n",
       "  </tr>\n",
       "  <tr>\n",
       "    <td>Shyam</td>\n",
       "    <td>shyamjaiswal@gmail.com</td>\n",
       "  </tr>\n",
       "  <tr>\n",
       "    <td>Bob</td>\n",
       "    <td>bob32@gmail.com</td>\n",
       "  </tr>\n",
       "  <tr>\n",
       "    <td>Jai</td>\n",
       "    <td>jai87@gmail.com</td>\n",
       "  </tr>\n",
       "</table>\n",
       "\n",
       "</body>\n",
       "</html>"
      ],
      "text/plain": [
       "<IPython.core.display.HTML object>"
      ]
     },
     "metadata": {},
     "output_type": "display_data"
    }
   ],
   "source": [
    "from IPython.display import display, Markdown, Latex, HTML, JSON\n",
    "display(HTML(response))\n"
   ]
  },
  {
   "cell_type": "markdown",
   "id": "2df1824c-534b-45cb-b0c1-3000bba5adbe",
   "metadata": {
    "id": "qLTz16qEzyT_"
   },
   "source": [
    "## Spellcheck/Grammar check.\n",
    "\n",
    "Here are some examples of common grammar and spelling problems and the LLM's response. \n",
    "\n",
    "To signal to the LLM that you want it to proofread your text, you instruct the model to 'proofread' or 'proofread and correct'."
   ]
  },
  {
   "cell_type": "code",
   "execution_count": 13,
   "id": "52d77283",
   "metadata": {
    "tags": []
   },
   "outputs": [
    {
     "name": "stdout",
     "output_type": "stream",
     "text": [
      "The girl with the black and white puppies has a ball.\n",
      "No errors found.\n",
      "It's going to be a long day. Does the car need its oil changed?\n",
      "There goes my freedom. They're going to bring their suitcases.\n",
      "You're going to need your notebook.\n",
      "That medicine affects my ability to sleep. Have you heard of the butterfly effect?\n",
      "This phrase is to check chatGPT for spelling ability.\n"
     ]
    }
   ],
   "source": [
    "text = [\n",
    "    # The girl has a ball.\n",
    "    \"The girl with the black and white puppies have a ball.\",\n",
    "    \"Yolanda has her notebook.\",  # ok\n",
    "    \"Its going to be a long day. Does the car need it’s oil changed?\",  # Homonyms\n",
    "    \"Their goes my freedom. There going to bring they’re suitcases.\",  # Homonyms\n",
    "    \"Your going to need you’re notebook.\",  # Homonyms\n",
    "    \"That medicine effects my ability to sleep. Have you heard of the butterfly affect?\",  # Homonyms\n",
    "    \"This phrase is to cherck chatGPT for speling abilitty\"  # spelling\n",
    "]\n",
    "for t in text:\n",
    "    prompt = f\"\"\"Proofread and correct the following text\n",
    "    and rewrite the corrected version. If you don't find\n",
    "    and errors, just say \"No errors found\". Don't use \n",
    "    any punctuation around the text:\n",
    "    ```{t}```\"\"\"\n",
    "    response = get_completion(prompt)\n",
    "    print(response)\n"
   ]
  },
  {
   "cell_type": "code",
   "execution_count": 14,
   "id": "7543fe7d",
   "metadata": {
    "tags": []
   },
   "outputs": [
    {
     "name": "stdout",
     "output_type": "stream",
     "text": [
      "Got this for my daughter for her birthday because she keeps taking mine from my room. Yes, adults also like pandas too. She takes it everywhere with her, and it's super soft and cute. However, one of the ears is a bit lower than the other, and I don't think that was designed to be asymmetrical. Additionally, it's a bit small for what I paid for it. I believe there might be other options that are bigger for the same price. On the positive side, it arrived a day earlier than expected, so I got to play with it myself before I gave it to my daughter.\n"
     ]
    }
   ],
   "source": [
    "text = f\"\"\"\n",
    "Got this for my daughter for her birthday cuz she keeps taking \\\n",
    "mine from my room.  Yes, adults also like pandas too.  She takes \\\n",
    "it everywhere with her, and it's super soft and cute.  One of the \\\n",
    "ears is a bit lower than the other, and I don't think that was \\\n",
    "designed to be asymmetrical. It's a bit small for what I paid for it \\\n",
    "though. I think there might be other options that are bigger for \\\n",
    "the same price.  It arrived a day earlier than expected, so I got \\\n",
    "to play with it myself before I gave it to my daughter.\n",
    "\"\"\"\n",
    "prompt = f\"proofread and correct this review: ```{text}```\"\n",
    "response = get_completion(prompt)\n",
    "print(response)\n"
   ]
  },
  {
   "cell_type": "code",
   "execution_count": 19,
   "id": "f218b581",
   "metadata": {},
   "outputs": [
    {
     "name": "stdout",
     "output_type": "stream",
     "text": [
      "Collecting redlines\n",
      "  Downloading redlines-0.4.2-py3-none-any.whl (8.0 kB)\n",
      "Requirement already satisfied: rich<14.0.0,>=13.3.5 in /home/kumar/anaconda3/lib/python3.10/site-packages (from redlines) (13.4.2)\n",
      "Collecting click<9.0.0,>=8.1.3\n",
      "  Downloading click-8.1.7-py3-none-any.whl (97 kB)\n",
      "\u001b[2K     \u001b[90m━━━━━━━━━━━━━━━━━━━━━━━━━━━━━━━━━━━━━━━━\u001b[0m \u001b[32m97.9/97.9 kB\u001b[0m \u001b[31m2.7 MB/s\u001b[0m eta \u001b[36m0:00:00\u001b[0m\n",
      "\u001b[?25hCollecting rich-click<2.0.0,>=1.6.1\n",
      "  Downloading rich_click-1.6.1-py3-none-any.whl (19 kB)\n",
      "Requirement already satisfied: pygments<3.0.0,>=2.13.0 in /home/kumar/anaconda3/lib/python3.10/site-packages (from rich<14.0.0,>=13.3.5->redlines) (2.15.1)\n",
      "Requirement already satisfied: markdown-it-py>=2.2.0 in /home/kumar/anaconda3/lib/python3.10/site-packages (from rich<14.0.0,>=13.3.5->redlines) (3.0.0)\n",
      "Requirement already satisfied: mdurl~=0.1 in /home/kumar/anaconda3/lib/python3.10/site-packages (from markdown-it-py>=2.2.0->rich<14.0.0,>=13.3.5->redlines) (0.1.2)\n",
      "Installing collected packages: click, rich-click, redlines\n",
      "  Attempting uninstall: click\n",
      "    Found existing installation: click 8.0.4\n",
      "    Uninstalling click-8.0.4:\n",
      "      Successfully uninstalled click-8.0.4\n",
      "Successfully installed click-8.1.7 redlines-0.4.2 rich-click-1.6.1\n"
     ]
    }
   ],
   "source": [
    "# !pip install redlines\n"
   ]
  },
  {
   "cell_type": "code",
   "execution_count": 20,
   "id": "11ac80a0",
   "metadata": {
    "tags": []
   },
   "outputs": [
    {
     "data": {
      "text/markdown": [
       "Got this for my daughter for her birthday <span style='color:red;font-weight:700;text-decoration:line-through;'>cuz </span><span style='color:green;font-weight:700;'>because </span>she keeps taking mine from my <span style='color:red;font-weight:700;text-decoration:line-through;'>room.  </span><span style='color:green;font-weight:700;'>room. </span>Yes, adults also like pandas <span style='color:red;font-weight:700;text-decoration:line-through;'>too.  </span><span style='color:green;font-weight:700;'>too. </span>She takes it everywhere with her, and it's super soft and <span style='color:red;font-weight:700;text-decoration:line-through;'>cute.  One </span><span style='color:green;font-weight:700;'>cute. However, one </span>of the ears is a bit lower than the other, and I don't think that was designed to be asymmetrical. <span style='color:red;font-weight:700;text-decoration:line-through;'>It's </span><span style='color:green;font-weight:700;'>Additionally, it's </span>a bit small for what I paid for <span style='color:red;font-weight:700;text-decoration:line-through;'>it though. </span><span style='color:green;font-weight:700;'>it. </span>I <span style='color:red;font-weight:700;text-decoration:line-through;'>think </span><span style='color:green;font-weight:700;'>believe </span>there might be other options that are bigger for the same <span style='color:red;font-weight:700;text-decoration:line-through;'>price.  It </span><span style='color:green;font-weight:700;'>price. On the positive side, it </span>arrived a day earlier than expected, so I got to play with it myself before I gave it to my daughter."
      ],
      "text/plain": [
       "<IPython.core.display.Markdown object>"
      ]
     },
     "metadata": {},
     "output_type": "display_data"
    }
   ],
   "source": [
    "from redlines import Redlines\n",
    "diff = Redlines(text, response)\n",
    "display(Markdown(diff.output_markdown))\n"
   ]
  },
  {
   "cell_type": "code",
   "execution_count": 21,
   "id": "2b4e73fd",
   "metadata": {
    "tags": []
   },
   "outputs": [
    {
     "data": {
      "text/markdown": [
       "**Review of a Panda Plush Toy: A Perfect Gift for All Ages**\n",
       "\n",
       "I purchased this adorable panda plush toy as a birthday gift for my daughter, who has a penchant for sneaking into my room and taking mine. It's worth noting that pandas are not just for kids; even adults can't resist their charm. \n",
       "\n",
       "From the moment my daughter unwrapped this gift, she has been inseparable from it. The plush toy is incredibly soft and undeniably cute, making it the perfect companion for her daily adventures. However, I did notice a minor flaw in its design - one of the ears is slightly lower than the other, which seems unintentional. Nonetheless, this asymmetry does not detract from its overall appeal.\n",
       "\n",
       "While the quality and cuteness of the panda plush toy are undeniable, I must admit that I expected it to be slightly larger considering its price. It would be wise to explore other options that offer a larger size for the same price point. \n",
       "\n",
       "On a positive note, the delivery of this product exceeded my expectations. It arrived a day earlier than anticipated, allowing me to indulge in some playtime with the plush toy before presenting it to my daughter. This unexpected bonus only added to the excitement and joy surrounding this gift.\n",
       "\n",
       "In conclusion, this panda plush toy is a delightful and enchanting gift suitable for individuals of all ages. Its softness, cuteness, and undeniable appeal make it a must-have for any panda enthusiast. While it may be slightly smaller than expected, its overall quality and the early delivery make it a worthwhile purchase."
      ],
      "text/plain": [
       "<IPython.core.display.Markdown object>"
      ]
     },
     "metadata": {},
     "output_type": "display_data"
    }
   ],
   "source": [
    "prompt = f\"\"\"\n",
    "proofread and correct this review. Make it more compelling. \n",
    "Ensure it follows APA style guide and targets an advanced reader. \n",
    "Output in markdown format.\n",
    "Text: ```{text}```\n",
    "\"\"\"\n",
    "response = get_completion(prompt)\n",
    "display(Markdown(response))\n"
   ]
  },
  {
   "cell_type": "markdown",
   "id": "63fb76bc-a742-4b35-9dc2-f7fbc12d38fb",
   "metadata": {},
   "source": [
    "## Try it yourself!\n",
    "Try changing the instructions to form your own review."
   ]
  },
  {
   "cell_type": "code",
   "execution_count": 22,
   "id": "a2b2ca58",
   "metadata": {},
   "outputs": [
    {
     "data": {
      "text/markdown": [
       "**Review:**\n",
       "\n",
       "I bought this adorable panda for my daughter's birthday because she always takes mine from my room. Even adults like pandas too, right? She carries it everywhere with her, and it's incredibly soft and cute. However, I noticed that one of the ears is slightly lower than the other, and I don't think it was intentionally designed that way. Additionally, I feel like it's a bit small considering the price I paid for it. I believe there might be other options available that are bigger but cost the same. On the positive side, it arrived a day earlier than expected, so I had the chance to play with it myself before giving it to my daughter.\n",
       "\n",
       "**Translation (Hindi):**\n",
       "\n",
       "**समीक्षा:**\n",
       "\n",
       "मैंने अपनी बेटी के जन्मदिन के लिए यह प्यारी पांडा खरीदी क्योंकि वह मेरे कमरे से मेरी पांडा लेती रहती है। हाँ, वयस्क भी पांडा पसंद करते हैं। वह इसे हर जगह ले जाती है, और यह बहुत ही मुलायम और प्यारा है। एक कान दूसरे से थोड़ा नीचे है, और मुझे लगता है कि यह असममित होने के लिए डिज़ाइन नहीं किया गया था। हालांकि, मुझे लगता है कि मैंने इसके लिए दिए गए मूल्य के मुकाबले यह थोड़ा छोटा है। मुझे लगता है कि इसी कीमत पर बड़े विकल्प भी हो सकते हैं। इसके साथ एक अच्छी बात यह है कि यह उम्मीद से एक दिन पहले पहुंच गया, इसलिए मैंने इसे अपनी बेटी को देने से पहले खुद खेलने का मौका पाया।"
      ],
      "text/plain": [
       "<IPython.core.display.Markdown object>"
      ]
     },
     "metadata": {},
     "output_type": "display_data"
    }
   ],
   "source": [
    "prompt = f\"\"\"\n",
    "proofread and correct this review and translate to hindi. Make it more compelling. \n",
    "Ensure it targets an poor and illiterate reader. \n",
    "Output in markdown format.\n",
    "Text: ```{text}```\n",
    "\"\"\"\n",
    "response = get_completion(prompt)\n",
    "display(Markdown(response))\n"
   ]
  },
  {
   "cell_type": "markdown",
   "id": "3dbf5020-7d7f-4ba5-840b-20e883cd7c99",
   "metadata": {
    "id": "unsf1JnRr2IC"
   },
   "source": [
    "Thanks to the following sites:\n",
    "\n",
    "https://writingprompts.com/bad-grammar-examples/\n"
   ]
  },
  {
   "cell_type": "markdown",
   "id": "7a669ebf",
   "metadata": {},
   "source": []
  }
 ],
 "metadata": {
  "kernelspec": {
   "display_name": "Python 3 (ipykernel)",
   "language": "python",
   "name": "python3"
  },
  "language_info": {
   "codemirror_mode": {
    "name": "ipython",
    "version": 3
   },
   "file_extension": ".py",
   "mimetype": "text/x-python",
   "name": "python",
   "nbconvert_exporter": "python",
   "pygments_lexer": "ipython3",
   "version": "3.10.9"
  }
 },
 "nbformat": 4,
 "nbformat_minor": 5
}
